{
 "cells": [
  {
   "cell_type": "code",
   "execution_count": 1,
   "id": "ceeea84c",
   "metadata": {},
   "outputs": [],
   "source": [
    "import h5py\n",
    "import numpy      as np\n",
    "import pandas     as pd\n",
    "import matplotlib.pyplot as plt\n",
    "import tensorflow as tf\n"
   ]
  },
  {
   "cell_type": "code",
   "execution_count": 2,
   "id": "beb2961f",
   "metadata": {},
   "outputs": [],
   "source": [
    "with h5py.File('data.h5', 'r') as hf:\n",
    "    X = hf['EEG_values'][:]             #Samples tensor\n",
    "    y = hf['target_values'][:]          #Targets matrix"
   ]
  },
  {
   "cell_type": "code",
   "execution_count": 3,
   "id": "75d15730",
   "metadata": {},
   "outputs": [],
   "source": [
    "channels_order = ['AF3', 'F7', 'F3', 'FC5', 'T7', 'P7', 'O1', 'O2', 'P8', 'T8', 'FC6', 'F4', 'F8', 'AF4']"
   ]
  },
  {
   "cell_type": "code",
   "execution_count": 4,
   "id": "4f0e6331",
   "metadata": {},
   "outputs": [],
   "source": [
    "from PCA_MTS import PCA_MTS"
   ]
  },
  {
   "cell_type": "code",
   "execution_count": 5,
   "id": "8bbc9b5b",
   "metadata": {},
   "outputs": [
    {
     "name": "stdout",
     "output_type": "stream",
     "text": [
      "Pls make sure that Input tensor X as shape of M: Samples , ni: length of time sereis , m: Numper of features \n"
     ]
    }
   ],
   "source": [
    "New_space = PCA_MTS(X)"
   ]
  },
  {
   "cell_type": "code",
   "execution_count": 6,
   "id": "b52ead7d",
   "metadata": {},
   "outputs": [],
   "source": [
    "eig_vals, eig_vecs , junk , junk = New_space.eigens()"
   ]
  },
  {
   "cell_type": "code",
   "execution_count": 7,
   "id": "5b12661a",
   "metadata": {},
   "outputs": [],
   "source": [
    "Space = eig_vecs[:,0:12]"
   ]
  },
  {
   "cell_type": "code",
   "execution_count": 8,
   "id": "60f0d182",
   "metadata": {},
   "outputs": [],
   "source": [
    "X_new     = np.dot(X,Space)"
   ]
  },
  {
   "cell_type": "code",
   "execution_count": 9,
   "id": "5365dd40",
   "metadata": {},
   "outputs": [
    {
     "data": {
      "text/plain": [
       "(2444, 640, 12)"
      ]
     },
     "execution_count": 9,
     "metadata": {},
     "output_type": "execute_result"
    }
   ],
   "source": [
    "X_new.shape"
   ]
  },
  {
   "cell_type": "code",
   "execution_count": 10,
   "id": "a0f2bc66",
   "metadata": {},
   "outputs": [
    {
     "name": "stdout",
     "output_type": "stream",
     "text": [
      "['/device:CPU:0', '/device:GPU:0']\n"
     ]
    }
   ],
   "source": [
    "from tensorflow.python.client import device_lib\n",
    "def get_available_devices():\n",
    "    local_device_protos = device_lib.list_local_devices()\n",
    "    return [x.name for x in local_device_protos]\n",
    "print(get_available_devices()) \n",
    "# bad => ['/device:CPU:0']\n",
    "# good output must be => ['/device:CPU:0', '/device:GPU:0']"
   ]
  },
  {
   "cell_type": "markdown",
   "id": "69894836",
   "metadata": {},
   "source": [
    "For validation, I gonna use the Leave one out approach as it's the most efficient approach also suits our samples.\n",
    "<br>\n",
    "<br>**How does it work? it simply means we'll select one of our subjects as a validation set and repeat the same algorithm for the other subjects so as I've 10 subjects, I'll train the model for 10 folds**"
   ]
  },
  {
   "cell_type": "code",
   "execution_count": 11,
   "id": "7209100d",
   "metadata": {},
   "outputs": [
    {
     "data": {
      "text/plain": [
       "(2200, 640, 12)"
      ]
     },
     "execution_count": 11,
     "metadata": {},
     "output_type": "execute_result"
    }
   ],
   "source": [
    "#Leave one out spliting\n",
    "Subjects = 10\n",
    "X_valid = [\"X_valid\" + str(i) for i in range (Subjects)]\n",
    "X_train = [\"X_train\" + str(i) for i in range (Subjects)]\n",
    "y_valid = [\"y_valid\" + str(i) for i in range (Subjects)]\n",
    "y_train = [\"y_train\" + str(i) for i in range (Subjects)]\n",
    "\n",
    "Mapping = { 0.00   : 0,\n",
    "           12.00   : 1,\n",
    "           10.00   : 2,\n",
    "           8.57    : 3,\n",
    "           7.50    : 4,\n",
    "           6.66    : 5    }\n",
    "\n",
    "for i in range(0 , y.shape[0]):\n",
    "    Key  = float(str(y[i]))\n",
    "    y[i] = Mapping[Key]\n",
    "y = y.astype('int8')\n",
    "\n",
    "exp_regions = np.where(y == 4)[0]\n",
    "Subject_exp = 25\n",
    "\n",
    "List_ = []\n",
    "for i in range (0, exp_regions.shape[0]):\n",
    "    if not(i%Subject_exp):\n",
    "        List_.append(exp_regions[i])\n",
    "List_.append(y.shape[0-1])\n",
    "\n",
    "for Subject in range (Subjects):\n",
    "    X_valid[Subject] = X_new[List_[Subject]:List_[Subject+1]]\n",
    "    y_valid[Subject] = y[List_[Subject]:List_[Subject+1]]\n",
    "    X_train[Subject] = np.delete(X_new, [*range(List_[Subject],List_[Subject+1])], 0)\n",
    "    y_train[Subject] = np.delete(y, [*range(List_[Subject],List_[Subject+1])], 0)\n",
    "    \n",
    "X_train[0].shape"
   ]
  },
  {
   "cell_type": "code",
   "execution_count": 12,
   "id": "dc69068e",
   "metadata": {},
   "outputs": [
    {
     "data": {
      "text/plain": [
       "1075"
      ]
     },
     "execution_count": 12,
     "metadata": {},
     "output_type": "execute_result"
    }
   ],
   "source": [
    "No_Activity_Events = np.where(y_train[0]==0)[0]\n",
    "len(No_Activity_Events)"
   ]
  },
  {
   "cell_type": "code",
   "execution_count": 13,
   "id": "0503fe06",
   "metadata": {},
   "outputs": [
    {
     "data": {
      "image/png": "[encoded data removed]",
      "text/plain": [
       "<Figure size 720x720 with 1 Axes>"
      ]
     },
     "metadata": {
      "needs_background": "light"
     },
     "output_type": "display_data"
    }
   ],
   "source": [
    "Events = pd.Series(y).to_frame().rename(columns={0: \"Events\"})['Events'].astype(str)\n",
    "type_counts = Events.value_counts()\n",
    "Coutns = type_counts.sum(axis = 0)\n",
    "for i in range(len(type_counts)):\n",
    "    type_counts.iloc[i] = int((type_counts.iloc[i]/Coutns)*100)\n",
    "ax =type_counts.plot(kind='bar' , figsize =(10,10)  , fontsize = 12);\n",
    "plt.suptitle('Data_Balance', fontsize=18);\n",
    "plt.ylabel('Percentage', fontsize=18);\n",
    "plt.xlabel('Events', fontsize=18);"
   ]
  },
  {
   "cell_type": "code",
   "execution_count": null,
   "id": "64b6de1d",
   "metadata": {},
   "outputs": [],
   "source": []
  },
  {
   "cell_type": "code",
   "execution_count": null,
   "id": "9239b637",
   "metadata": {},
   "outputs": [],
   "source": []
  },
  {
   "cell_type": "code",
   "execution_count": null,
   "id": "8b5929db",
   "metadata": {},
   "outputs": [],
   "source": []
  },
  {
   "cell_type": "code",
   "execution_count": null,
   "id": "b6f25870",
   "metadata": {},
   "outputs": [],
   "source": []
  },
  {
   "cell_type": "code",
   "execution_count": null,
   "id": "c5016fcb",
   "metadata": {},
   "outputs": [],
   "source": []
  }
 ],
 "metadata": {
  "kernelspec": {
   "display_name": "Python 3",
   "language": "python",
   "name": "python3"
  },
  "language_info": {
   "codemirror_mode": {
    "name": "ipython",
    "version": 3
   },
   "file_extension": ".py",
   "mimetype": "text/x-python",
   "name": "python",
   "nbconvert_exporter": "python",
   "pygments_lexer": "ipython3",
   "version": "3.8.8"
  }
 },
 "nbformat": 4,
 "nbformat_minor": 5
}
